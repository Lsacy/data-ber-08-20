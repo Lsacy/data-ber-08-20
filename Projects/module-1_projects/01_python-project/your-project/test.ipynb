{
 "cells": [
  {
   "cell_type": "code",
   "execution_count": 20,
   "metadata": {},
   "outputs": [
    {
     "name": "stdout",
     "output_type": "stream",
     "text": [
      "3 ['1', '1', '2'] 112\n"
     ]
    }
   ],
   "source": [
    "import random\n",
    "list1 = ['1','2','3']\n",
    "x = 3\n",
    "def myfunc(arg):\n",
    "    i = 0\n",
    "    final = ''\n",
    "    list2 = []\n",
    "    while i < x:\n",
    "        list2.append(random.choice(list1))\n",
    "        final1 = ''.join(list2)\n",
    "        i += 1\n",
    "    print(i, list2,final1)\n",
    "\n",
    "myfunc(x)\n",
    "\n"
   ]
  },
  {
   "cell_type": "code",
   "execution_count": null,
   "metadata": {},
   "outputs": [],
   "source": []
  },
  {
   "cell_type": "code",
   "execution_count": null,
   "metadata": {},
   "outputs": [],
   "source": []
  }
 ],
 "metadata": {
  "kernelspec": {
   "display_name": "Python 3",
   "language": "python",
   "name": "python3"
  },
  "language_info": {
   "codemirror_mode": {
    "name": "ipython",
    "version": 3
   },
   "file_extension": ".py",
   "mimetype": "text/x-python",
   "name": "python",
   "nbconvert_exporter": "python",
   "pygments_lexer": "ipython3",
   "version": "3.8.5"
  }
 },
 "nbformat": 4,
 "nbformat_minor": 4
}
